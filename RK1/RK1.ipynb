{
 "cells": [
  {
   "cell_type": "markdown",
   "metadata": {},
   "source": [
    "# РК1, ИУ5-64Б: Сафин Р. Р."
   ]
  },
  {
   "cell_type": "markdown",
   "metadata": {},
   "source": [
    "**Вариант 10** (задача 2, датасет 2)"
   ]
  },
  {
   "cell_type": "markdown",
   "metadata": {},
   "source": [
    "Для заданного набора данных проведите обработку пропусков в данных для одного категориального и одного количественного признака. Какие способы обработки пропусков в данных для категориальных и количественных признаков Вы использовали? Какие признаки Вы будете использовать для дальнейшего построения моделей машинного обучения и почему?"
   ]
  },
  {
   "cell_type": "markdown",
   "metadata": {},
   "source": [
    "## Выполнение"
   ]
  },
  {
   "cell_type": "code",
   "execution_count": 1,
   "metadata": {},
   "outputs": [],
   "source": [
    "import pandas as pd\n",
    "import numpy as np"
   ]
  },
  {
   "cell_type": "markdown",
   "metadata": {},
   "source": [
    "### Извлечение dataset"
   ]
  },
  {
   "cell_type": "code",
   "execution_count": 2,
   "metadata": {},
   "outputs": [
    {
     "data": {
      "text/html": [
       "<div>\n",
       "<style scoped>\n",
       "    .dataframe tbody tr th:only-of-type {\n",
       "        vertical-align: middle;\n",
       "    }\n",
       "\n",
       "    .dataframe tbody tr th {\n",
       "        vertical-align: top;\n",
       "    }\n",
       "\n",
       "    .dataframe thead th {\n",
       "        text-align: right;\n",
       "    }\n",
       "</style>\n",
       "<table border=\"1\" class=\"dataframe\">\n",
       "  <thead>\n",
       "    <tr style=\"text-align: right;\">\n",
       "      <th></th>\n",
       "      <th>page_id</th>\n",
       "      <th>name</th>\n",
       "      <th>urlslug</th>\n",
       "      <th>ID</th>\n",
       "      <th>ALIGN</th>\n",
       "      <th>EYE</th>\n",
       "      <th>HAIR</th>\n",
       "      <th>SEX</th>\n",
       "      <th>GSM</th>\n",
       "      <th>ALIVE</th>\n",
       "      <th>APPEARANCES</th>\n",
       "      <th>FIRST APPEARANCE</th>\n",
       "      <th>YEAR</th>\n",
       "    </tr>\n",
       "  </thead>\n",
       "  <tbody>\n",
       "    <tr>\n",
       "      <th>0</th>\n",
       "      <td>1422</td>\n",
       "      <td>Batman (Bruce Wayne)</td>\n",
       "      <td>\\/wiki\\/Batman_(Bruce_Wayne)</td>\n",
       "      <td>Secret Identity</td>\n",
       "      <td>Good Characters</td>\n",
       "      <td>Blue Eyes</td>\n",
       "      <td>Black Hair</td>\n",
       "      <td>Male Characters</td>\n",
       "      <td>NaN</td>\n",
       "      <td>Living Characters</td>\n",
       "      <td>3093.0</td>\n",
       "      <td>1939, May</td>\n",
       "      <td>1939.0</td>\n",
       "    </tr>\n",
       "    <tr>\n",
       "      <th>1</th>\n",
       "      <td>23387</td>\n",
       "      <td>Superman (Clark Kent)</td>\n",
       "      <td>\\/wiki\\/Superman_(Clark_Kent)</td>\n",
       "      <td>Secret Identity</td>\n",
       "      <td>Good Characters</td>\n",
       "      <td>Blue Eyes</td>\n",
       "      <td>Black Hair</td>\n",
       "      <td>Male Characters</td>\n",
       "      <td>NaN</td>\n",
       "      <td>Living Characters</td>\n",
       "      <td>2496.0</td>\n",
       "      <td>1986, October</td>\n",
       "      <td>1986.0</td>\n",
       "    </tr>\n",
       "    <tr>\n",
       "      <th>2</th>\n",
       "      <td>1458</td>\n",
       "      <td>Green Lantern (Hal Jordan)</td>\n",
       "      <td>\\/wiki\\/Green_Lantern_(Hal_Jordan)</td>\n",
       "      <td>Secret Identity</td>\n",
       "      <td>Good Characters</td>\n",
       "      <td>Brown Eyes</td>\n",
       "      <td>Brown Hair</td>\n",
       "      <td>Male Characters</td>\n",
       "      <td>NaN</td>\n",
       "      <td>Living Characters</td>\n",
       "      <td>1565.0</td>\n",
       "      <td>1959, October</td>\n",
       "      <td>1959.0</td>\n",
       "    </tr>\n",
       "    <tr>\n",
       "      <th>3</th>\n",
       "      <td>1659</td>\n",
       "      <td>James Gordon (New Earth)</td>\n",
       "      <td>\\/wiki\\/James_Gordon_(New_Earth)</td>\n",
       "      <td>Public Identity</td>\n",
       "      <td>Good Characters</td>\n",
       "      <td>Brown Eyes</td>\n",
       "      <td>White Hair</td>\n",
       "      <td>Male Characters</td>\n",
       "      <td>NaN</td>\n",
       "      <td>Living Characters</td>\n",
       "      <td>1316.0</td>\n",
       "      <td>1987, February</td>\n",
       "      <td>1987.0</td>\n",
       "    </tr>\n",
       "    <tr>\n",
       "      <th>4</th>\n",
       "      <td>1576</td>\n",
       "      <td>Richard Grayson (New Earth)</td>\n",
       "      <td>\\/wiki\\/Richard_Grayson_(New_Earth)</td>\n",
       "      <td>Secret Identity</td>\n",
       "      <td>Good Characters</td>\n",
       "      <td>Blue Eyes</td>\n",
       "      <td>Black Hair</td>\n",
       "      <td>Male Characters</td>\n",
       "      <td>NaN</td>\n",
       "      <td>Living Characters</td>\n",
       "      <td>1237.0</td>\n",
       "      <td>1940, April</td>\n",
       "      <td>1940.0</td>\n",
       "    </tr>\n",
       "    <tr>\n",
       "      <th>...</th>\n",
       "      <td>...</td>\n",
       "      <td>...</td>\n",
       "      <td>...</td>\n",
       "      <td>...</td>\n",
       "      <td>...</td>\n",
       "      <td>...</td>\n",
       "      <td>...</td>\n",
       "      <td>...</td>\n",
       "      <td>...</td>\n",
       "      <td>...</td>\n",
       "      <td>...</td>\n",
       "      <td>...</td>\n",
       "      <td>...</td>\n",
       "    </tr>\n",
       "    <tr>\n",
       "      <th>6891</th>\n",
       "      <td>66302</td>\n",
       "      <td>Nadine West (New Earth)</td>\n",
       "      <td>\\/wiki\\/Nadine_West_(New_Earth)</td>\n",
       "      <td>Public Identity</td>\n",
       "      <td>Good Characters</td>\n",
       "      <td>NaN</td>\n",
       "      <td>NaN</td>\n",
       "      <td>Female Characters</td>\n",
       "      <td>NaN</td>\n",
       "      <td>Living Characters</td>\n",
       "      <td>NaN</td>\n",
       "      <td>NaN</td>\n",
       "      <td>NaN</td>\n",
       "    </tr>\n",
       "    <tr>\n",
       "      <th>6892</th>\n",
       "      <td>283475</td>\n",
       "      <td>Warren Harding (New Earth)</td>\n",
       "      <td>\\/wiki\\/Warren_Harding_(New_Earth)</td>\n",
       "      <td>Public Identity</td>\n",
       "      <td>Good Characters</td>\n",
       "      <td>NaN</td>\n",
       "      <td>NaN</td>\n",
       "      <td>Male Characters</td>\n",
       "      <td>NaN</td>\n",
       "      <td>Living Characters</td>\n",
       "      <td>NaN</td>\n",
       "      <td>NaN</td>\n",
       "      <td>NaN</td>\n",
       "    </tr>\n",
       "    <tr>\n",
       "      <th>6893</th>\n",
       "      <td>283478</td>\n",
       "      <td>William Harrison (New Earth)</td>\n",
       "      <td>\\/wiki\\/William_Harrison_(New_Earth)</td>\n",
       "      <td>Public Identity</td>\n",
       "      <td>Good Characters</td>\n",
       "      <td>NaN</td>\n",
       "      <td>NaN</td>\n",
       "      <td>Male Characters</td>\n",
       "      <td>NaN</td>\n",
       "      <td>Living Characters</td>\n",
       "      <td>NaN</td>\n",
       "      <td>NaN</td>\n",
       "      <td>NaN</td>\n",
       "    </tr>\n",
       "    <tr>\n",
       "      <th>6894</th>\n",
       "      <td>283471</td>\n",
       "      <td>William McKinley (New Earth)</td>\n",
       "      <td>\\/wiki\\/William_McKinley_(New_Earth)</td>\n",
       "      <td>Public Identity</td>\n",
       "      <td>Good Characters</td>\n",
       "      <td>NaN</td>\n",
       "      <td>NaN</td>\n",
       "      <td>Male Characters</td>\n",
       "      <td>NaN</td>\n",
       "      <td>Living Characters</td>\n",
       "      <td>NaN</td>\n",
       "      <td>NaN</td>\n",
       "      <td>NaN</td>\n",
       "    </tr>\n",
       "    <tr>\n",
       "      <th>6895</th>\n",
       "      <td>150660</td>\n",
       "      <td>Mookie (New Earth)</td>\n",
       "      <td>\\/wiki\\/Mookie_(New_Earth)</td>\n",
       "      <td>Public Identity</td>\n",
       "      <td>Bad Characters</td>\n",
       "      <td>Blue Eyes</td>\n",
       "      <td>Blond Hair</td>\n",
       "      <td>Male Characters</td>\n",
       "      <td>NaN</td>\n",
       "      <td>Living Characters</td>\n",
       "      <td>NaN</td>\n",
       "      <td>NaN</td>\n",
       "      <td>NaN</td>\n",
       "    </tr>\n",
       "  </tbody>\n",
       "</table>\n",
       "<p>6896 rows × 13 columns</p>\n",
       "</div>"
      ],
      "text/plain": [
       "      page_id                          name  \\\n",
       "0        1422          Batman (Bruce Wayne)   \n",
       "1       23387         Superman (Clark Kent)   \n",
       "2        1458    Green Lantern (Hal Jordan)   \n",
       "3        1659      James Gordon (New Earth)   \n",
       "4        1576   Richard Grayson (New Earth)   \n",
       "...       ...                           ...   \n",
       "6891    66302       Nadine West (New Earth)   \n",
       "6892   283475    Warren Harding (New Earth)   \n",
       "6893   283478  William Harrison (New Earth)   \n",
       "6894   283471  William McKinley (New Earth)   \n",
       "6895   150660            Mookie (New Earth)   \n",
       "\n",
       "                                   urlslug               ID            ALIGN  \\\n",
       "0             \\/wiki\\/Batman_(Bruce_Wayne)  Secret Identity  Good Characters   \n",
       "1            \\/wiki\\/Superman_(Clark_Kent)  Secret Identity  Good Characters   \n",
       "2       \\/wiki\\/Green_Lantern_(Hal_Jordan)  Secret Identity  Good Characters   \n",
       "3         \\/wiki\\/James_Gordon_(New_Earth)  Public Identity  Good Characters   \n",
       "4      \\/wiki\\/Richard_Grayson_(New_Earth)  Secret Identity  Good Characters   \n",
       "...                                    ...              ...              ...   \n",
       "6891       \\/wiki\\/Nadine_West_(New_Earth)  Public Identity  Good Characters   \n",
       "6892    \\/wiki\\/Warren_Harding_(New_Earth)  Public Identity  Good Characters   \n",
       "6893  \\/wiki\\/William_Harrison_(New_Earth)  Public Identity  Good Characters   \n",
       "6894  \\/wiki\\/William_McKinley_(New_Earth)  Public Identity  Good Characters   \n",
       "6895            \\/wiki\\/Mookie_(New_Earth)  Public Identity   Bad Characters   \n",
       "\n",
       "             EYE        HAIR                SEX  GSM              ALIVE  \\\n",
       "0      Blue Eyes  Black Hair    Male Characters  NaN  Living Characters   \n",
       "1      Blue Eyes  Black Hair    Male Characters  NaN  Living Characters   \n",
       "2     Brown Eyes  Brown Hair    Male Characters  NaN  Living Characters   \n",
       "3     Brown Eyes  White Hair    Male Characters  NaN  Living Characters   \n",
       "4      Blue Eyes  Black Hair    Male Characters  NaN  Living Characters   \n",
       "...          ...         ...                ...  ...                ...   \n",
       "6891         NaN         NaN  Female Characters  NaN  Living Characters   \n",
       "6892         NaN         NaN    Male Characters  NaN  Living Characters   \n",
       "6893         NaN         NaN    Male Characters  NaN  Living Characters   \n",
       "6894         NaN         NaN    Male Characters  NaN  Living Characters   \n",
       "6895   Blue Eyes  Blond Hair    Male Characters  NaN  Living Characters   \n",
       "\n",
       "      APPEARANCES FIRST APPEARANCE    YEAR  \n",
       "0          3093.0        1939, May  1939.0  \n",
       "1          2496.0    1986, October  1986.0  \n",
       "2          1565.0    1959, October  1959.0  \n",
       "3          1316.0   1987, February  1987.0  \n",
       "4          1237.0      1940, April  1940.0  \n",
       "...           ...              ...     ...  \n",
       "6891          NaN              NaN     NaN  \n",
       "6892          NaN              NaN     NaN  \n",
       "6893          NaN              NaN     NaN  \n",
       "6894          NaN              NaN     NaN  \n",
       "6895          NaN              NaN     NaN  \n",
       "\n",
       "[6896 rows x 13 columns]"
      ]
     },
     "execution_count": 2,
     "metadata": {},
     "output_type": "execute_result"
    }
   ],
   "source": [
    "data = pd.read_csv('C:/Users/rusta/Desktop/RK1/dc.csv')\n",
    "data"
   ]
  },
  {
   "cell_type": "markdown",
   "metadata": {},
   "source": [
    "### Обработка пропусков в данных"
   ]
  },
  {
   "cell_type": "markdown",
   "metadata": {},
   "source": [
    "#### Проверим, есть ли пропущенные значения"
   ]
  },
  {
   "cell_type": "code",
   "execution_count": 3,
   "metadata": {
    "scrolled": true
   },
   "outputs": [
    {
     "data": {
      "text/plain": [
       "page_id                0\n",
       "name                   0\n",
       "urlslug                0\n",
       "ID                  2013\n",
       "ALIGN                601\n",
       "EYE                 3628\n",
       "HAIR                2274\n",
       "SEX                  125\n",
       "GSM                 6832\n",
       "ALIVE                  3\n",
       "APPEARANCES          355\n",
       "FIRST APPEARANCE      69\n",
       "YEAR                  69\n",
       "dtype: int64"
      ]
     },
     "execution_count": 3,
     "metadata": {},
     "output_type": "execute_result"
    }
   ],
   "source": [
    "data.isnull().sum()"
   ]
  },
  {
   "cell_type": "markdown",
   "metadata": {},
   "source": [
    "### 1. Замена пустых значений на среднее"
   ]
  },
  {
   "cell_type": "markdown",
   "metadata": {},
   "source": [
    "Выполним замену для количественного признака APPEARANCES. "
   ]
  },
  {
   "cell_type": "markdown",
   "metadata": {},
   "source": [
    "1. Количество нулевых значений:"
   ]
  },
  {
   "cell_type": "code",
   "execution_count": 4,
   "metadata": {},
   "outputs": [
    {
     "data": {
      "text/plain": [
       "355"
      ]
     },
     "execution_count": 4,
     "metadata": {},
     "output_type": "execute_result"
    }
   ],
   "source": [
    "data['APPEARANCES'].isna().sum()"
   ]
  },
  {
   "cell_type": "markdown",
   "metadata": {},
   "source": [
    "2. Получим среднее:"
   ]
  },
  {
   "cell_type": "code",
   "execution_count": 5,
   "metadata": {},
   "outputs": [
    {
     "data": {
      "text/plain": [
       "23.62513377159456"
      ]
     },
     "execution_count": 5,
     "metadata": {},
     "output_type": "execute_result"
    }
   ],
   "source": [
    "mean = data['APPEARANCES'].mean()\n",
    "mean"
   ]
  },
  {
   "cell_type": "markdown",
   "metadata": {},
   "source": [
    "3. Выполним замену и проверим количество пустых значений:"
   ]
  },
  {
   "cell_type": "code",
   "execution_count": 6,
   "metadata": {},
   "outputs": [
    {
     "data": {
      "text/plain": [
       "0"
      ]
     },
     "execution_count": 6,
     "metadata": {},
     "output_type": "execute_result"
    }
   ],
   "source": [
    "data['APPEARANCES'].fillna(mean, inplace=True)\n",
    "data['APPEARANCES'].isna().sum()"
   ]
  },
  {
   "cell_type": "markdown",
   "metadata": {},
   "source": [
    "### 2. Удаление пустых значений"
   ]
  },
  {
   "cell_type": "markdown",
   "metadata": {},
   "source": [
    "Выполним удаление для категориального признака ALIGN."
   ]
  },
  {
   "cell_type": "markdown",
   "metadata": {},
   "source": [
    "1. Количество нулевых значений:"
   ]
  },
  {
   "cell_type": "code",
   "execution_count": 7,
   "metadata": {
    "scrolled": true
   },
   "outputs": [
    {
     "data": {
      "text/plain": [
       "601"
      ]
     },
     "execution_count": 7,
     "metadata": {},
     "output_type": "execute_result"
    }
   ],
   "source": [
    "data['ALIGN'].isna().sum()"
   ]
  },
  {
   "cell_type": "markdown",
   "metadata": {},
   "source": [
    "2. Удалим строки, содержащие нулевое значение колонки ALIGN:"
   ]
  },
  {
   "cell_type": "code",
   "execution_count": 8,
   "metadata": {
    "scrolled": false
   },
   "outputs": [
    {
     "data": {
      "text/html": [
       "<div>\n",
       "<style scoped>\n",
       "    .dataframe tbody tr th:only-of-type {\n",
       "        vertical-align: middle;\n",
       "    }\n",
       "\n",
       "    .dataframe tbody tr th {\n",
       "        vertical-align: top;\n",
       "    }\n",
       "\n",
       "    .dataframe thead th {\n",
       "        text-align: right;\n",
       "    }\n",
       "</style>\n",
       "<table border=\"1\" class=\"dataframe\">\n",
       "  <thead>\n",
       "    <tr style=\"text-align: right;\">\n",
       "      <th></th>\n",
       "      <th>page_id</th>\n",
       "      <th>name</th>\n",
       "      <th>urlslug</th>\n",
       "      <th>ID</th>\n",
       "      <th>ALIGN</th>\n",
       "      <th>EYE</th>\n",
       "      <th>HAIR</th>\n",
       "      <th>SEX</th>\n",
       "      <th>GSM</th>\n",
       "      <th>ALIVE</th>\n",
       "      <th>APPEARANCES</th>\n",
       "      <th>FIRST APPEARANCE</th>\n",
       "      <th>YEAR</th>\n",
       "    </tr>\n",
       "  </thead>\n",
       "  <tbody>\n",
       "    <tr>\n",
       "      <th>0</th>\n",
       "      <td>1422</td>\n",
       "      <td>Batman (Bruce Wayne)</td>\n",
       "      <td>\\/wiki\\/Batman_(Bruce_Wayne)</td>\n",
       "      <td>Secret Identity</td>\n",
       "      <td>Good Characters</td>\n",
       "      <td>Blue Eyes</td>\n",
       "      <td>Black Hair</td>\n",
       "      <td>Male Characters</td>\n",
       "      <td>NaN</td>\n",
       "      <td>Living Characters</td>\n",
       "      <td>3093.000000</td>\n",
       "      <td>1939, May</td>\n",
       "      <td>1939.0</td>\n",
       "    </tr>\n",
       "    <tr>\n",
       "      <th>1</th>\n",
       "      <td>23387</td>\n",
       "      <td>Superman (Clark Kent)</td>\n",
       "      <td>\\/wiki\\/Superman_(Clark_Kent)</td>\n",
       "      <td>Secret Identity</td>\n",
       "      <td>Good Characters</td>\n",
       "      <td>Blue Eyes</td>\n",
       "      <td>Black Hair</td>\n",
       "      <td>Male Characters</td>\n",
       "      <td>NaN</td>\n",
       "      <td>Living Characters</td>\n",
       "      <td>2496.000000</td>\n",
       "      <td>1986, October</td>\n",
       "      <td>1986.0</td>\n",
       "    </tr>\n",
       "    <tr>\n",
       "      <th>2</th>\n",
       "      <td>1458</td>\n",
       "      <td>Green Lantern (Hal Jordan)</td>\n",
       "      <td>\\/wiki\\/Green_Lantern_(Hal_Jordan)</td>\n",
       "      <td>Secret Identity</td>\n",
       "      <td>Good Characters</td>\n",
       "      <td>Brown Eyes</td>\n",
       "      <td>Brown Hair</td>\n",
       "      <td>Male Characters</td>\n",
       "      <td>NaN</td>\n",
       "      <td>Living Characters</td>\n",
       "      <td>1565.000000</td>\n",
       "      <td>1959, October</td>\n",
       "      <td>1959.0</td>\n",
       "    </tr>\n",
       "    <tr>\n",
       "      <th>3</th>\n",
       "      <td>1659</td>\n",
       "      <td>James Gordon (New Earth)</td>\n",
       "      <td>\\/wiki\\/James_Gordon_(New_Earth)</td>\n",
       "      <td>Public Identity</td>\n",
       "      <td>Good Characters</td>\n",
       "      <td>Brown Eyes</td>\n",
       "      <td>White Hair</td>\n",
       "      <td>Male Characters</td>\n",
       "      <td>NaN</td>\n",
       "      <td>Living Characters</td>\n",
       "      <td>1316.000000</td>\n",
       "      <td>1987, February</td>\n",
       "      <td>1987.0</td>\n",
       "    </tr>\n",
       "    <tr>\n",
       "      <th>4</th>\n",
       "      <td>1576</td>\n",
       "      <td>Richard Grayson (New Earth)</td>\n",
       "      <td>\\/wiki\\/Richard_Grayson_(New_Earth)</td>\n",
       "      <td>Secret Identity</td>\n",
       "      <td>Good Characters</td>\n",
       "      <td>Blue Eyes</td>\n",
       "      <td>Black Hair</td>\n",
       "      <td>Male Characters</td>\n",
       "      <td>NaN</td>\n",
       "      <td>Living Characters</td>\n",
       "      <td>1237.000000</td>\n",
       "      <td>1940, April</td>\n",
       "      <td>1940.0</td>\n",
       "    </tr>\n",
       "    <tr>\n",
       "      <th>...</th>\n",
       "      <td>...</td>\n",
       "      <td>...</td>\n",
       "      <td>...</td>\n",
       "      <td>...</td>\n",
       "      <td>...</td>\n",
       "      <td>...</td>\n",
       "      <td>...</td>\n",
       "      <td>...</td>\n",
       "      <td>...</td>\n",
       "      <td>...</td>\n",
       "      <td>...</td>\n",
       "      <td>...</td>\n",
       "      <td>...</td>\n",
       "    </tr>\n",
       "    <tr>\n",
       "      <th>6891</th>\n",
       "      <td>66302</td>\n",
       "      <td>Nadine West (New Earth)</td>\n",
       "      <td>\\/wiki\\/Nadine_West_(New_Earth)</td>\n",
       "      <td>Public Identity</td>\n",
       "      <td>Good Characters</td>\n",
       "      <td>NaN</td>\n",
       "      <td>NaN</td>\n",
       "      <td>Female Characters</td>\n",
       "      <td>NaN</td>\n",
       "      <td>Living Characters</td>\n",
       "      <td>23.625134</td>\n",
       "      <td>NaN</td>\n",
       "      <td>NaN</td>\n",
       "    </tr>\n",
       "    <tr>\n",
       "      <th>6892</th>\n",
       "      <td>283475</td>\n",
       "      <td>Warren Harding (New Earth)</td>\n",
       "      <td>\\/wiki\\/Warren_Harding_(New_Earth)</td>\n",
       "      <td>Public Identity</td>\n",
       "      <td>Good Characters</td>\n",
       "      <td>NaN</td>\n",
       "      <td>NaN</td>\n",
       "      <td>Male Characters</td>\n",
       "      <td>NaN</td>\n",
       "      <td>Living Characters</td>\n",
       "      <td>23.625134</td>\n",
       "      <td>NaN</td>\n",
       "      <td>NaN</td>\n",
       "    </tr>\n",
       "    <tr>\n",
       "      <th>6893</th>\n",
       "      <td>283478</td>\n",
       "      <td>William Harrison (New Earth)</td>\n",
       "      <td>\\/wiki\\/William_Harrison_(New_Earth)</td>\n",
       "      <td>Public Identity</td>\n",
       "      <td>Good Characters</td>\n",
       "      <td>NaN</td>\n",
       "      <td>NaN</td>\n",
       "      <td>Male Characters</td>\n",
       "      <td>NaN</td>\n",
       "      <td>Living Characters</td>\n",
       "      <td>23.625134</td>\n",
       "      <td>NaN</td>\n",
       "      <td>NaN</td>\n",
       "    </tr>\n",
       "    <tr>\n",
       "      <th>6894</th>\n",
       "      <td>283471</td>\n",
       "      <td>William McKinley (New Earth)</td>\n",
       "      <td>\\/wiki\\/William_McKinley_(New_Earth)</td>\n",
       "      <td>Public Identity</td>\n",
       "      <td>Good Characters</td>\n",
       "      <td>NaN</td>\n",
       "      <td>NaN</td>\n",
       "      <td>Male Characters</td>\n",
       "      <td>NaN</td>\n",
       "      <td>Living Characters</td>\n",
       "      <td>23.625134</td>\n",
       "      <td>NaN</td>\n",
       "      <td>NaN</td>\n",
       "    </tr>\n",
       "    <tr>\n",
       "      <th>6895</th>\n",
       "      <td>150660</td>\n",
       "      <td>Mookie (New Earth)</td>\n",
       "      <td>\\/wiki\\/Mookie_(New_Earth)</td>\n",
       "      <td>Public Identity</td>\n",
       "      <td>Bad Characters</td>\n",
       "      <td>Blue Eyes</td>\n",
       "      <td>Blond Hair</td>\n",
       "      <td>Male Characters</td>\n",
       "      <td>NaN</td>\n",
       "      <td>Living Characters</td>\n",
       "      <td>23.625134</td>\n",
       "      <td>NaN</td>\n",
       "      <td>NaN</td>\n",
       "    </tr>\n",
       "  </tbody>\n",
       "</table>\n",
       "<p>6295 rows × 13 columns</p>\n",
       "</div>"
      ],
      "text/plain": [
       "      page_id                          name  \\\n",
       "0        1422          Batman (Bruce Wayne)   \n",
       "1       23387         Superman (Clark Kent)   \n",
       "2        1458    Green Lantern (Hal Jordan)   \n",
       "3        1659      James Gordon (New Earth)   \n",
       "4        1576   Richard Grayson (New Earth)   \n",
       "...       ...                           ...   \n",
       "6891    66302       Nadine West (New Earth)   \n",
       "6892   283475    Warren Harding (New Earth)   \n",
       "6893   283478  William Harrison (New Earth)   \n",
       "6894   283471  William McKinley (New Earth)   \n",
       "6895   150660            Mookie (New Earth)   \n",
       "\n",
       "                                   urlslug               ID            ALIGN  \\\n",
       "0             \\/wiki\\/Batman_(Bruce_Wayne)  Secret Identity  Good Characters   \n",
       "1            \\/wiki\\/Superman_(Clark_Kent)  Secret Identity  Good Characters   \n",
       "2       \\/wiki\\/Green_Lantern_(Hal_Jordan)  Secret Identity  Good Characters   \n",
       "3         \\/wiki\\/James_Gordon_(New_Earth)  Public Identity  Good Characters   \n",
       "4      \\/wiki\\/Richard_Grayson_(New_Earth)  Secret Identity  Good Characters   \n",
       "...                                    ...              ...              ...   \n",
       "6891       \\/wiki\\/Nadine_West_(New_Earth)  Public Identity  Good Characters   \n",
       "6892    \\/wiki\\/Warren_Harding_(New_Earth)  Public Identity  Good Characters   \n",
       "6893  \\/wiki\\/William_Harrison_(New_Earth)  Public Identity  Good Characters   \n",
       "6894  \\/wiki\\/William_McKinley_(New_Earth)  Public Identity  Good Characters   \n",
       "6895            \\/wiki\\/Mookie_(New_Earth)  Public Identity   Bad Characters   \n",
       "\n",
       "             EYE        HAIR                SEX  GSM              ALIVE  \\\n",
       "0      Blue Eyes  Black Hair    Male Characters  NaN  Living Characters   \n",
       "1      Blue Eyes  Black Hair    Male Characters  NaN  Living Characters   \n",
       "2     Brown Eyes  Brown Hair    Male Characters  NaN  Living Characters   \n",
       "3     Brown Eyes  White Hair    Male Characters  NaN  Living Characters   \n",
       "4      Blue Eyes  Black Hair    Male Characters  NaN  Living Characters   \n",
       "...          ...         ...                ...  ...                ...   \n",
       "6891         NaN         NaN  Female Characters  NaN  Living Characters   \n",
       "6892         NaN         NaN    Male Characters  NaN  Living Characters   \n",
       "6893         NaN         NaN    Male Characters  NaN  Living Characters   \n",
       "6894         NaN         NaN    Male Characters  NaN  Living Characters   \n",
       "6895   Blue Eyes  Blond Hair    Male Characters  NaN  Living Characters   \n",
       "\n",
       "      APPEARANCES FIRST APPEARANCE    YEAR  \n",
       "0     3093.000000        1939, May  1939.0  \n",
       "1     2496.000000    1986, October  1986.0  \n",
       "2     1565.000000    1959, October  1959.0  \n",
       "3     1316.000000   1987, February  1987.0  \n",
       "4     1237.000000      1940, April  1940.0  \n",
       "...           ...              ...     ...  \n",
       "6891    23.625134              NaN     NaN  \n",
       "6892    23.625134              NaN     NaN  \n",
       "6893    23.625134              NaN     NaN  \n",
       "6894    23.625134              NaN     NaN  \n",
       "6895    23.625134              NaN     NaN  \n",
       "\n",
       "[6295 rows x 13 columns]"
      ]
     },
     "execution_count": 8,
     "metadata": {},
     "output_type": "execute_result"
    }
   ],
   "source": [
    "data = data[~data['ALIGN'].isna()]\n",
    "data"
   ]
  },
  {
   "cell_type": "markdown",
   "metadata": {},
   "source": [
    "Как можно видеть, количество строк датасета уменьшилось."
   ]
  },
  {
   "cell_type": "markdown",
   "metadata": {},
   "source": [
    "3. Проверим количество пустых значений поля ALIGN:"
   ]
  },
  {
   "cell_type": "code",
   "execution_count": 9,
   "metadata": {},
   "outputs": [
    {
     "data": {
      "text/plain": [
       "0"
      ]
     },
     "execution_count": 9,
     "metadata": {},
     "output_type": "execute_result"
    }
   ],
   "source": [
    "data['ALIGN'].isna().sum()"
   ]
  },
  {
   "cell_type": "markdown",
   "metadata": {},
   "source": [
    "### Дополнительное задание"
   ]
  },
  {
   "cell_type": "markdown",
   "metadata": {},
   "source": [
    "Построим график \"Скрипичная диаграмма\" (Violin plot) для поля YEAR"
   ]
  },
  {
   "cell_type": "code",
   "execution_count": 12,
   "metadata": {},
   "outputs": [
    {
     "data": {
      "text/plain": [
       "<matplotlib.axes._subplots.AxesSubplot at 0x24a8c670>"
      ]
     },
     "execution_count": 12,
     "metadata": {},
     "output_type": "execute_result"
    },
    {
     "data": {
      "image/png": "[encoded data removed]",
      "text/plain": [
       "<Figure size 432x288 with 1 Axes>"
      ]
     },
     "metadata": {
      "needs_background": "light"
     },
     "output_type": "display_data"
    }
   ],
   "source": [
    "import seaborn as sns\n",
    "sns.violinplot(x=data['YEAR'])"
   ]
  }
 ],
 "metadata": {
  "kernelspec": {
   "display_name": "Python 3",
   "language": "python",
   "name": "python3"
  },
  "language_info": {
   "codemirror_mode": {
    "name": "ipython",
    "version": 3
   },
   "file_extension": ".py",
   "mimetype": "text/x-python",
   "name": "python",
   "nbconvert_exporter": "python",
   "pygments_lexer": "ipython3",
   "version": "3.8.1"
  }
 },
 "nbformat": 4,
 "nbformat_minor": 4
}
